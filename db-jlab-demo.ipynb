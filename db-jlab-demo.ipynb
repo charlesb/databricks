{
 "cells": [
  {
   "cell_type": "code",
   "execution_count": 1,
   "metadata": {},
   "outputs": [
    {
     "name": "stdin",
     "output_type": "stream",
     "text": [
      "Creating a Spark execution context:\n",
      "Enter personal access token for profile 'azure-charles-bernard-workspace' ····································\n"
     ]
    },
    {
     "name": "stdout",
     "output_type": "stream",
     "text": [
      "Gateway created for cluster '0428-073438-semi974' .... connected\n"
     ]
    },
    {
     "data": {
      "text/html": [
       "\n",
       "        <style>\n",
       "        .db-bar {\n",
       "            height: 12px;\n",
       "            overflow: hidden;\n",
       "        }\n",
       "\n",
       "        .db-label {\n",
       "            height: 14px;\n",
       "            line-height: 11px !important;\n",
       "            font-size: 11px;\n",
       "            color: #999 !important;\n",
       "        }\n",
       "        div.db-bar label {\n",
       "            font-size: 11px;\n",
       "            color: #999 !important;\n",
       "        }\n",
       "        .db-button {\n",
       "            width: 13px;\n",
       "            height: 12px;\n",
       "            padding: 0px;\n",
       "        }\n",
       "        .db-button .fa {\n",
       "            display: block;\n",
       "        }\n",
       "        </style>\n",
       "        "
      ],
      "text/plain": [
       "<IPython.core.display.HTML object>"
      ]
     },
     "metadata": {},
     "output_type": "display_data"
    },
    {
     "name": "stdout",
     "output_type": "stream",
     "text": [
      "The following global variables have been created:\n",
      "- spark       Spark session\n",
      "- sc          Spark context\n",
      "- sqlContext  Hive Context\n",
      "- dbutils     Databricks utilities (filesystem access only)\n",
      "- dbbrowser   Allows to browse dbfs and databases:\n",
      "              - dbbrowser.dbfs()\n",
      "              - dbbrowser.databases()\n",
      "\n"
     ]
    },
    {
     "data": {
      "text/html": [
       "\n",
       "        <div>\n",
       "            <dl>\n",
       "            <dt>Spark Version</dt><dd>2.4.4</dd>\n",
       "            <dt>Spark Application</dt><dd>Databricks Shell</dd>\n",
       "            <dt>Spark UI</dt><dd><a href=\"https://southeastasia.azuredatabricks.net/?o=databricks#/setting/clusters/0428-073438-semi974/sparkUi\">go to ...</a></dd>\n",
       "            </dl>\n",
       "        </div>\n",
       "        "
      ],
      "text/plain": [
       "<IPython.core.display.HTML object>"
      ]
     },
     "metadata": {},
     "output_type": "display_data"
    }
   ],
   "source": [
    "from databrickslabs_jupyterlab.connect import dbcontext, is_remote\n",
    "dbcontext()"
   ]
  },
  {
   "cell_type": "code",
   "execution_count": 2,
   "metadata": {},
   "outputs": [
    {
     "name": "stdout",
     "output_type": "stream",
     "text": [
      "0428-073438-semi974-14-0-0-69 True\n"
     ]
    },
    {
     "data": {
      "application/vnd.jupyter.widget-view+json": {
       "model_id": "22f208991b88414dbbd747ddd8cfece8",
       "version_major": 2,
       "version_minor": 0
      },
      "text/plain": [
       "HBox(children=(Button(icon='arrow-circle-right', style=ButtonStyle(), tooltip='Toggle progress bar', _dom_clas…"
      ]
     },
     "metadata": {},
     "output_type": "display_data"
    },
    {
     "name": "stdout",
     "output_type": "stream",
     "text": [
      "49995000\n"
     ]
    }
   ],
   "source": [
    "import socket\n",
    "print(socket.gethostname(), is_remote())\n",
    "\n",
    "a = sc.range(10000).repartition(100).map(lambda x: x).sum()\n",
    "print(a)"
   ]
  },
  {
   "cell_type": "code",
   "execution_count": null,
   "metadata": {},
   "outputs": [],
   "source": []
  }
 ],
 "metadata": {
  "kernelspec": {
   "display_name": "SSH 0428-073438-semi974 azure-charles-bernard-workspace:my-demo-cluster (db-jlab)",
   "language": "python",
   "name": "ssh__ssh0428-073438-semi974azure-charles-bernard-workspacemy-demo-clusterdb-jlab"
  },
  "language_info": {
   "codemirror_mode": {
    "name": "ipython",
    "version": 3
   },
   "file_extension": ".py",
   "mimetype": "text/x-python",
   "name": "python",
   "nbconvert_exporter": "python",
   "pygments_lexer": "ipython3",
   "version": "3.7.3"
  }
 },
 "nbformat": 4,
 "nbformat_minor": 4
}
